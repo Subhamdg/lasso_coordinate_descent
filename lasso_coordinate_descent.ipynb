{
 "cells": [
  {
   "cell_type": "code",
   "execution_count": 1,
   "metadata": {},
   "outputs": [],
   "source": [
    "import numpy as nm\n",
    "import pandas as pd\n",
    "import matplotlib.pyplot as plt\n",
    "from sklearn.datasets import load_boston"
   ]
  },
  {
   "cell_type": "code",
   "execution_count": 2,
   "metadata": {},
   "outputs": [],
   "source": [
    "def normal(n,a):\n",
    "    j=-a\n",
    "    if nm.any(n> a):\n",
    "        return (n-a)    \n",
    "    elif nm.any(n < j):\n",
    "        return (n+a)\n",
    "    else:\n",
    "        return 0\n",
    "    "
   ]
  },
  {
   "cell_type": "code",
   "execution_count": 3,
   "metadata": {},
   "outputs": [],
   "source": [
    "def cd_lasso(t,x,y,a=.05,it=100,k=False):\n",
    "    m,n=x.shape\n",
    "    x = x / (nm.linalg.norm(x,axis = 0))\n",
    "    for i in range (it):\n",
    "        for j in range(n):\n",
    "            s=x[:,j].reshape(-1,1)\n",
    "            r=nm.dot(x,t)\n",
    "            p=nm.dot(s.T,(t[j]*s + y-r))\n",
    "            if k==True and j==0:\n",
    "                t[j]=p\n",
    "            else:\n",
    "                t[j]= normal(p,a)\n",
    "    return t.flatten()\n"
   ]
  },
  {
   "cell_type": "code",
   "execution_count": null,
   "metadata": {},
   "outputs": [
    {
     "name": "stdout",
     "output_type": "stream",
     "text": [
      "(506, 1)\n",
      "(506, 13)\n"
     ]
    }
   ],
   "source": [
    "ab=load_boston()\n",
    "x=ab.data\n",
    "y=ab.target.reshape(-1,1)\n",
    "print(y.shape)\n",
    "print(x.shape)\n",
    "jj=ab.feature_names\n",
    "m,n=x.shape\n",
    "s=nm.ones((n,1))\n",
    "tl=list()\n",
    "a=nm.logspace(0,3,800)/10\n",
    "for i in a:\n",
    "    t=cd_lasso(s,x,y,a=i,it=100)\n",
    "    tl.append(t)\n",
    "tl=nm.stack(tl).T\n",
    "n,ab=tl.shape\n",
    "plt.figure(figsize=(12,8))\n",
    "for i in range(n):\n",
    "    plt.plot(a,tl[i],label=jj[i])\n",
    "plt.legend()"
   ]
  },
  {
   "cell_type": "code",
   "execution_count": null,
   "metadata": {},
   "outputs": [],
   "source": []
  }
 ],
 "metadata": {
  "kernelspec": {
   "display_name": "Python 3",
   "language": "python",
   "name": "python3"
  },
  "language_info": {
   "codemirror_mode": {
    "name": "ipython",
    "version": 3
   },
   "file_extension": ".py",
   "mimetype": "text/x-python",
   "name": "python",
   "nbconvert_exporter": "python",
   "pygments_lexer": "ipython3",
   "version": "3.7.3"
  }
 },
 "nbformat": 4,
 "nbformat_minor": 2
}
